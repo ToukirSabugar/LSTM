{
  "nbformat": 4,
  "nbformat_minor": 0,
  "metadata": {
    "colab": {
      "provenance": [],
      "authorship_tag": "ABX9TyMsK/bVF9fRdEgQvSvmxQQL",
      "include_colab_link": true
    },
    "kernelspec": {
      "name": "python3",
      "display_name": "Python 3"
    },
    "language_info": {
      "name": "python"
    }
  },
  "cells": [
    {
      "cell_type": "markdown",
      "metadata": {
        "id": "view-in-github",
        "colab_type": "text"
      },
      "source": [
        "<a href=\"https://colab.research.google.com/github/ToukirSabugar/LSTM/blob/main/LSTM.ipynb\" target=\"_parent\"><img src=\"https://colab.research.google.com/assets/colab-badge.svg\" alt=\"Open In Colab\"/></a>"
      ]
    },
    {
      "cell_type": "code",
      "execution_count": null,
      "metadata": {
        "id": "kMqFxgD3vMxb"
      },
      "outputs": [],
      "source": [
        "import numpy as np\n",
        "import matplotlib.pyplot as plt\n",
        "from pandas import read_csv\n",
        "import math\n",
        "import tensorflow as tf\n",
        "from tensorflow.keras.models import Sequential\n",
        "from tensorflow.keras.layers import Dense\n",
        "from tensorflow.keras.layers import LSTM\n",
        "from sklearn.preprocessing import MinMaxScaler\n",
        "from sklearn.metrics import mean_squared_error"
      ]
    },
    {
      "cell_type": "code",
      "source": [
        "# convert an array of values into a dataset matrix\n",
        "def create_dataset(dataset, look_back=1):\n",
        "    dataX, dataY = [], []\n",
        "    for i in range(len(dataset)-look_back-1):\n",
        "        a = dataset[i:(i+look_back), 0]\n",
        "        dataX.append(a)\n",
        "        dataY.append(dataset[i + look_back, 0])\n",
        "    return np.array(dataX), np.array(dataY)"
      ],
      "metadata": {
        "id": "ou1gjPs1vPsP"
      },
      "execution_count": null,
      "outputs": []
    },
    {
      "cell_type": "code",
      "source": [
        "# fix random seed for reproducibility\n",
        "tf.random.set_seed(7)"
      ],
      "metadata": {
        "id": "NOjVA_Y6vXgv"
      },
      "execution_count": null,
      "outputs": []
    },
    {
      "cell_type": "code",
      "source": [
        "# load the dataset\n",
        "dataframe = read_csv('/content/airline-passengers.csv', usecols=[1], engine='python')\n",
        "dataset = dataframe.values\n",
        "dataset = dataset.astype('float32')"
      ],
      "metadata": {
        "id": "iYlJ7G2jvXtR"
      },
      "execution_count": null,
      "outputs": []
    },
    {
      "cell_type": "code",
      "source": [
        "# normalize the dataset\n",
        "scaler = MinMaxScaler(feature_range=(0, 1))\n",
        "dataset = scaler.fit_transform(dataset)"
      ],
      "metadata": {
        "id": "tkNZsETQvfoN"
      },
      "execution_count": null,
      "outputs": []
    },
    {
      "cell_type": "code",
      "source": [
        "train_size = int(len(dataset) * 0.67)\n",
        "test_size = len(dataset) - train_size\n",
        "train, test = dataset[0:train_size,:], dataset[train_size:len(dataset),:]\n"
      ],
      "metadata": {
        "id": "3WMc2uRvwFLC"
      },
      "execution_count": null,
      "outputs": []
    },
    {
      "cell_type": "code",
      "source": [
        "# reshape into X=t and Y=t+1\n",
        "look_back = 1\n",
        "trainX, trainY = create_dataset(train, look_back)\n",
        "testX, testY = create_dataset(test, look_back)"
      ],
      "metadata": {
        "id": "Mo1bvMXDwNA2"
      },
      "execution_count": null,
      "outputs": []
    },
    {
      "cell_type": "code",
      "source": [
        "# reshape input to be [samples, time steps, features]\n",
        "trainX = np.reshape(trainX, (trainX.shape[0], 1, trainX.shape[1]))\n",
        "testX = np.reshape(testX, (testX.shape[0], 1, testX.shape[1]))"
      ],
      "metadata": {
        "id": "0OwZWr59wQx4"
      },
      "execution_count": null,
      "outputs": []
    },
    {
      "cell_type": "code",
      "source": [
        "# create and fit the LSTM network\n",
        "model = Sequential()\n",
        "model.add(LSTM(4, input_shape=(1, look_back)))\n",
        "model.add(Dense(1))\n",
        "model.compile(loss='mean_squared_error', optimizer='adam')\n",
        "model.fit(trainX, trainY, epochs=100, batch_size=1, verbose=2)"
      ],
      "metadata": {
        "colab": {
          "base_uri": "https://localhost:8080/"
        },
        "id": "_LoTHTr0wU1A",
        "outputId": "098cc0c8-e553-4b44-a2db-75c9e1dc0ed6"
      },
      "execution_count": null,
      "outputs": [
        {
          "output_type": "stream",
          "name": "stdout",
          "text": [
            "Epoch 1/100\n",
            "94/94 - 2s - loss: 0.0425 - 2s/epoch - 23ms/step\n",
            "Epoch 2/100\n",
            "94/94 - 0s - loss: 0.0215 - 154ms/epoch - 2ms/step\n",
            "Epoch 3/100\n",
            "94/94 - 0s - loss: 0.0158 - 156ms/epoch - 2ms/step\n",
            "Epoch 4/100\n",
            "94/94 - 0s - loss: 0.0144 - 158ms/epoch - 2ms/step\n",
            "Epoch 5/100\n",
            "94/94 - 0s - loss: 0.0135 - 162ms/epoch - 2ms/step\n",
            "Epoch 6/100\n",
            "94/94 - 0s - loss: 0.0124 - 171ms/epoch - 2ms/step\n",
            "Epoch 7/100\n",
            "94/94 - 0s - loss: 0.0116 - 156ms/epoch - 2ms/step\n",
            "Epoch 8/100\n",
            "94/94 - 0s - loss: 0.0106 - 158ms/epoch - 2ms/step\n",
            "Epoch 9/100\n",
            "94/94 - 0s - loss: 0.0099 - 163ms/epoch - 2ms/step\n",
            "Epoch 10/100\n",
            "94/94 - 0s - loss: 0.0089 - 152ms/epoch - 2ms/step\n",
            "Epoch 11/100\n",
            "94/94 - 0s - loss: 0.0080 - 147ms/epoch - 2ms/step\n",
            "Epoch 12/100\n",
            "94/94 - 0s - loss: 0.0071 - 174ms/epoch - 2ms/step\n",
            "Epoch 13/100\n",
            "94/94 - 0s - loss: 0.0063 - 161ms/epoch - 2ms/step\n",
            "Epoch 14/100\n",
            "94/94 - 0s - loss: 0.0056 - 149ms/epoch - 2ms/step\n",
            "Epoch 15/100\n",
            "94/94 - 0s - loss: 0.0049 - 151ms/epoch - 2ms/step\n",
            "Epoch 16/100\n",
            "94/94 - 0s - loss: 0.0043 - 163ms/epoch - 2ms/step\n",
            "Epoch 17/100\n",
            "94/94 - 0s - loss: 0.0037 - 146ms/epoch - 2ms/step\n",
            "Epoch 18/100\n",
            "94/94 - 0s - loss: 0.0033 - 166ms/epoch - 2ms/step\n",
            "Epoch 19/100\n",
            "94/94 - 0s - loss: 0.0030 - 156ms/epoch - 2ms/step\n",
            "Epoch 20/100\n",
            "94/94 - 0s - loss: 0.0027 - 156ms/epoch - 2ms/step\n",
            "Epoch 21/100\n",
            "94/94 - 0s - loss: 0.0024 - 157ms/epoch - 2ms/step\n",
            "Epoch 22/100\n",
            "94/94 - 0s - loss: 0.0023 - 152ms/epoch - 2ms/step\n",
            "Epoch 23/100\n",
            "94/94 - 0s - loss: 0.0022 - 147ms/epoch - 2ms/step\n",
            "Epoch 24/100\n",
            "94/94 - 0s - loss: 0.0021 - 149ms/epoch - 2ms/step\n",
            "Epoch 25/100\n",
            "94/94 - 0s - loss: 0.0021 - 161ms/epoch - 2ms/step\n",
            "Epoch 26/100\n",
            "94/94 - 0s - loss: 0.0020 - 157ms/epoch - 2ms/step\n",
            "Epoch 27/100\n",
            "94/94 - 0s - loss: 0.0020 - 151ms/epoch - 2ms/step\n",
            "Epoch 28/100\n",
            "94/94 - 0s - loss: 0.0020 - 162ms/epoch - 2ms/step\n",
            "Epoch 29/100\n",
            "94/94 - 0s - loss: 0.0021 - 149ms/epoch - 2ms/step\n",
            "Epoch 30/100\n",
            "94/94 - 0s - loss: 0.0020 - 172ms/epoch - 2ms/step\n",
            "Epoch 31/100\n",
            "94/94 - 0s - loss: 0.0020 - 172ms/epoch - 2ms/step\n",
            "Epoch 32/100\n",
            "94/94 - 0s - loss: 0.0021 - 155ms/epoch - 2ms/step\n",
            "Epoch 33/100\n",
            "94/94 - 0s - loss: 0.0020 - 154ms/epoch - 2ms/step\n",
            "Epoch 34/100\n",
            "94/94 - 0s - loss: 0.0020 - 150ms/epoch - 2ms/step\n",
            "Epoch 35/100\n",
            "94/94 - 0s - loss: 0.0020 - 151ms/epoch - 2ms/step\n",
            "Epoch 36/100\n",
            "94/94 - 0s - loss: 0.0020 - 165ms/epoch - 2ms/step\n",
            "Epoch 37/100\n",
            "94/94 - 0s - loss: 0.0020 - 156ms/epoch - 2ms/step\n",
            "Epoch 38/100\n",
            "94/94 - 0s - loss: 0.0020 - 158ms/epoch - 2ms/step\n",
            "Epoch 39/100\n",
            "94/94 - 0s - loss: 0.0020 - 149ms/epoch - 2ms/step\n",
            "Epoch 40/100\n",
            "94/94 - 0s - loss: 0.0020 - 191ms/epoch - 2ms/step\n",
            "Epoch 41/100\n",
            "94/94 - 0s - loss: 0.0020 - 211ms/epoch - 2ms/step\n",
            "Epoch 42/100\n",
            "94/94 - 0s - loss: 0.0020 - 215ms/epoch - 2ms/step\n",
            "Epoch 43/100\n",
            "94/94 - 0s - loss: 0.0020 - 234ms/epoch - 2ms/step\n",
            "Epoch 44/100\n",
            "94/94 - 0s - loss: 0.0020 - 221ms/epoch - 2ms/step\n",
            "Epoch 45/100\n",
            "94/94 - 0s - loss: 0.0021 - 222ms/epoch - 2ms/step\n",
            "Epoch 46/100\n",
            "94/94 - 0s - loss: 0.0019 - 247ms/epoch - 3ms/step\n",
            "Epoch 47/100\n",
            "94/94 - 0s - loss: 0.0020 - 240ms/epoch - 3ms/step\n",
            "Epoch 48/100\n",
            "94/94 - 0s - loss: 0.0020 - 226ms/epoch - 2ms/step\n",
            "Epoch 49/100\n",
            "94/94 - 0s - loss: 0.0020 - 233ms/epoch - 2ms/step\n",
            "Epoch 50/100\n",
            "94/94 - 0s - loss: 0.0020 - 241ms/epoch - 3ms/step\n",
            "Epoch 51/100\n",
            "94/94 - 0s - loss: 0.0020 - 215ms/epoch - 2ms/step\n",
            "Epoch 52/100\n",
            "94/94 - 0s - loss: 0.0020 - 162ms/epoch - 2ms/step\n",
            "Epoch 53/100\n",
            "94/94 - 0s - loss: 0.0020 - 149ms/epoch - 2ms/step\n",
            "Epoch 54/100\n",
            "94/94 - 0s - loss: 0.0020 - 156ms/epoch - 2ms/step\n",
            "Epoch 55/100\n",
            "94/94 - 0s - loss: 0.0020 - 149ms/epoch - 2ms/step\n",
            "Epoch 56/100\n",
            "94/94 - 0s - loss: 0.0020 - 158ms/epoch - 2ms/step\n",
            "Epoch 57/100\n",
            "94/94 - 0s - loss: 0.0020 - 157ms/epoch - 2ms/step\n",
            "Epoch 58/100\n",
            "94/94 - 0s - loss: 0.0020 - 182ms/epoch - 2ms/step\n",
            "Epoch 59/100\n",
            "94/94 - 0s - loss: 0.0020 - 155ms/epoch - 2ms/step\n",
            "Epoch 60/100\n",
            "94/94 - 0s - loss: 0.0020 - 151ms/epoch - 2ms/step\n",
            "Epoch 61/100\n",
            "94/94 - 0s - loss: 0.0020 - 157ms/epoch - 2ms/step\n",
            "Epoch 62/100\n",
            "94/94 - 0s - loss: 0.0020 - 156ms/epoch - 2ms/step\n",
            "Epoch 63/100\n",
            "94/94 - 0s - loss: 0.0020 - 152ms/epoch - 2ms/step\n",
            "Epoch 64/100\n",
            "94/94 - 0s - loss: 0.0020 - 154ms/epoch - 2ms/step\n",
            "Epoch 65/100\n",
            "94/94 - 0s - loss: 0.0020 - 163ms/epoch - 2ms/step\n",
            "Epoch 66/100\n",
            "94/94 - 0s - loss: 0.0020 - 158ms/epoch - 2ms/step\n",
            "Epoch 67/100\n",
            "94/94 - 0s - loss: 0.0021 - 153ms/epoch - 2ms/step\n",
            "Epoch 68/100\n",
            "94/94 - 0s - loss: 0.0020 - 153ms/epoch - 2ms/step\n",
            "Epoch 69/100\n",
            "94/94 - 0s - loss: 0.0020 - 158ms/epoch - 2ms/step\n",
            "Epoch 70/100\n",
            "94/94 - 0s - loss: 0.0020 - 155ms/epoch - 2ms/step\n",
            "Epoch 71/100\n",
            "94/94 - 0s - loss: 0.0020 - 168ms/epoch - 2ms/step\n",
            "Epoch 72/100\n",
            "94/94 - 0s - loss: 0.0020 - 146ms/epoch - 2ms/step\n",
            "Epoch 73/100\n",
            "94/94 - 0s - loss: 0.0020 - 151ms/epoch - 2ms/step\n",
            "Epoch 74/100\n",
            "94/94 - 0s - loss: 0.0020 - 148ms/epoch - 2ms/step\n",
            "Epoch 75/100\n",
            "94/94 - 0s - loss: 0.0020 - 150ms/epoch - 2ms/step\n",
            "Epoch 76/100\n",
            "94/94 - 0s - loss: 0.0020 - 150ms/epoch - 2ms/step\n",
            "Epoch 77/100\n",
            "94/94 - 0s - loss: 0.0019 - 182ms/epoch - 2ms/step\n",
            "Epoch 78/100\n",
            "94/94 - 0s - loss: 0.0020 - 156ms/epoch - 2ms/step\n",
            "Epoch 79/100\n",
            "94/94 - 0s - loss: 0.0020 - 153ms/epoch - 2ms/step\n",
            "Epoch 80/100\n",
            "94/94 - 0s - loss: 0.0020 - 147ms/epoch - 2ms/step\n",
            "Epoch 81/100\n",
            "94/94 - 0s - loss: 0.0019 - 152ms/epoch - 2ms/step\n",
            "Epoch 82/100\n",
            "94/94 - 0s - loss: 0.0021 - 159ms/epoch - 2ms/step\n",
            "Epoch 83/100\n",
            "94/94 - 0s - loss: 0.0020 - 155ms/epoch - 2ms/step\n",
            "Epoch 84/100\n",
            "94/94 - 0s - loss: 0.0019 - 154ms/epoch - 2ms/step\n",
            "Epoch 85/100\n",
            "94/94 - 0s - loss: 0.0020 - 150ms/epoch - 2ms/step\n",
            "Epoch 86/100\n",
            "94/94 - 0s - loss: 0.0020 - 154ms/epoch - 2ms/step\n",
            "Epoch 87/100\n",
            "94/94 - 0s - loss: 0.0020 - 150ms/epoch - 2ms/step\n",
            "Epoch 88/100\n",
            "94/94 - 0s - loss: 0.0020 - 152ms/epoch - 2ms/step\n",
            "Epoch 89/100\n",
            "94/94 - 0s - loss: 0.0020 - 165ms/epoch - 2ms/step\n",
            "Epoch 90/100\n",
            "94/94 - 0s - loss: 0.0020 - 163ms/epoch - 2ms/step\n",
            "Epoch 91/100\n",
            "94/94 - 0s - loss: 0.0020 - 149ms/epoch - 2ms/step\n",
            "Epoch 92/100\n",
            "94/94 - 0s - loss: 0.0020 - 166ms/epoch - 2ms/step\n",
            "Epoch 93/100\n",
            "94/94 - 0s - loss: 0.0020 - 153ms/epoch - 2ms/step\n",
            "Epoch 94/100\n",
            "94/94 - 0s - loss: 0.0020 - 149ms/epoch - 2ms/step\n",
            "Epoch 95/100\n",
            "94/94 - 0s - loss: 0.0021 - 153ms/epoch - 2ms/step\n",
            "Epoch 96/100\n",
            "94/94 - 0s - loss: 0.0020 - 161ms/epoch - 2ms/step\n",
            "Epoch 97/100\n",
            "94/94 - 0s - loss: 0.0020 - 157ms/epoch - 2ms/step\n",
            "Epoch 98/100\n",
            "94/94 - 0s - loss: 0.0020 - 161ms/epoch - 2ms/step\n",
            "Epoch 99/100\n",
            "94/94 - 0s - loss: 0.0020 - 149ms/epoch - 2ms/step\n",
            "Epoch 100/100\n",
            "94/94 - 0s - loss: 0.0020 - 162ms/epoch - 2ms/step\n"
          ]
        },
        {
          "output_type": "execute_result",
          "data": {
            "text/plain": [
              "<keras.callbacks.History at 0x7fb314049f70>"
            ]
          },
          "metadata": {},
          "execution_count": 10
        }
      ]
    },
    {
      "cell_type": "code",
      "source": [
        "# make predictions\n",
        "trainPredict = model.predict(trainX)\n",
        "testPredict = model.predict(testX)"
      ],
      "metadata": {
        "colab": {
          "base_uri": "https://localhost:8080/"
        },
        "id": "gmUqZ9tQwYxx",
        "outputId": "96b1f5a5-605f-4f41-ae2e-66e676bc938c"
      },
      "execution_count": null,
      "outputs": [
        {
          "output_type": "stream",
          "name": "stdout",
          "text": [
            "3/3 [==============================] - 1s 4ms/step\n",
            "2/2 [==============================] - 0s 7ms/step\n"
          ]
        }
      ]
    },
    {
      "cell_type": "code",
      "source": [
        "# invert predictions\n",
        "trainPredict = scaler.inverse_transform(trainPredict)\n",
        "trainY = scaler.inverse_transform([trainY])\n",
        "testPredict = scaler.inverse_transform(testPredict)\n",
        "testY = scaler.inverse_transform([testY])"
      ],
      "metadata": {
        "id": "tJOdDLS5w39o"
      },
      "execution_count": null,
      "outputs": []
    },
    {
      "cell_type": "code",
      "source": [
        "# calculate root mean squared error\n",
        "trainScore = np.sqrt(mean_squared_error(trainY[0], trainPredict[:,0]))\n",
        "print('Train Score: %.2f RMSE' % (trainScore))\n",
        "testScore = np.sqrt(mean_squared_error(testY[0], testPredict[:,0]))\n",
        "print('Test Score: %.2f RMSE' % (testScore))"
      ],
      "metadata": {
        "colab": {
          "base_uri": "https://localhost:8080/"
        },
        "id": "DRq6ekeVw-vU",
        "outputId": "7dd8e2bb-e522-4f6c-ce8b-2236c72ecd4a"
      },
      "execution_count": null,
      "outputs": [
        {
          "output_type": "stream",
          "name": "stdout",
          "text": [
            "Train Score: 22.65 RMSE\n",
            "Test Score: 50.17 RMSE\n"
          ]
        }
      ]
    },
    {
      "cell_type": "code",
      "source": [
        "# shift train predictions for plotting\n",
        "trainPredictPlot = np.empty_like(dataset)\n",
        "trainPredictPlot[:, :] = np.nan\n",
        "trainPredictPlot[look_back:len(trainPredict)+look_back, :] = trainPredict"
      ],
      "metadata": {
        "id": "LHzbLgxxxCk1"
      },
      "execution_count": null,
      "outputs": []
    },
    {
      "cell_type": "code",
      "source": [
        "\n",
        "# shift test predictions for plotting\n",
        "testPredictPlot = np.empty_like(dataset)\n",
        "testPredictPlot[:, :] = np.nan\n",
        "testPredictPlot[len(trainPredict)+(look_back*2)+1:len(dataset)-1, :] = testPredict\n"
      ],
      "metadata": {
        "id": "jnk7TUfsxIwr"
      },
      "execution_count": null,
      "outputs": []
    },
    {
      "cell_type": "code",
      "source": [
        "# plot baseline and predictions\n",
        "plt.plot(scaler.inverse_transform(dataset))\n",
        "plt.plot(trainPredictPlot)\n",
        "plt.plot(testPredictPlot)\n",
        "plt.show()"
      ],
      "metadata": {
        "id": "JO6tMzCIxNMI",
        "outputId": "8ac475b6-594c-4d0b-8c13-6a04e9d06083",
        "colab": {
          "base_uri": "https://localhost:8080/",
          "height": 430
        }
      },
      "execution_count": null,
      "outputs": [
        {
          "output_type": "display_data",
          "data": {
            "text/plain": [
              "<Figure size 640x480 with 1 Axes>"
            ],
            "image/png": "[encoded data removed]"
          },
          "metadata": {}
        }
      ]
    },
    {
      "cell_type": "code",
      "source": [],
      "metadata": {
        "id": "QbbEAiBLxQnh"
      },
      "execution_count": null,
      "outputs": []
    }
  ]
}